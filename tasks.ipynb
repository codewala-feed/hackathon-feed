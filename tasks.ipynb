{
 "cells": [
  {
   "cell_type": "code",
   "execution_count": 2,
   "metadata": {},
   "outputs": [
    {
     "name": "stdout",
     "output_type": "stream",
     "text": [
      "{'name': 'hari', 'age': 23} 2\n"
     ]
    }
   ],
   "source": [
    "\"\"\"\n",
    "1. create empty dict and add one item and find the length\n",
    "\"\"\"\n",
    "data = {}\n",
    "data[\"name\"] = \"hari\"\n",
    "data.update({\"age\":23})\n",
    "print(data, len(data))"
   ]
  },
  {
   "cell_type": "code",
   "execution_count": 7,
   "metadata": {},
   "outputs": [
    {
     "name": "stdout",
     "output_type": "stream",
     "text": [
      "{1: 1, 2: 4, 3: 9, 4: 16, 5: 25, 6: 36, 7: 49, 8: 64, 9: 81, 10: 100}\n"
     ]
    }
   ],
   "source": [
    "\"\"\" \n",
    "2. Create a empty dictionary with\n",
    "\t keys as numbers and values as their squares from 1 to n\n",
    "Example: {1: 1, 2: 4, 3: 9, 4: 16}\n",
    "\"\"\"\n",
    "nums = {}\n",
    "n = int(input(\"Enter Value: \"))\n",
    "for num in range(1, n+1):\n",
    "    # print(num, num*num)\n",
    "    nums[num] = num*num\n",
    "print(nums)\n"
   ]
  },
  {
   "cell_type": "code",
   "execution_count": 9,
   "metadata": {},
   "outputs": [
    {
     "name": "stdout",
     "output_type": "stream",
     "text": [
      "{'a': 1, 'b': 2, 'c': 3, 'd': 4}\n"
     ]
    }
   ],
   "source": [
    "\"\"\" \n",
    "3. Merge two dictionaries into one\n",
    "Example: Merge {'a': 1, 'b': 2} with {'c': 3, 'd': 4} \n",
    "\t\tto get {'a': 1, 'b': 2, 'c': 3, 'd': 4}.\n",
    "\"\"\"\n",
    "data1 = {'a': 1, 'b': 2}\n",
    "data2 = {'c': 3, 'd': 4} \n",
    "data1.update(data2)\n",
    "print(data1)"
   ]
  },
  {
   "cell_type": "code",
   "execution_count": 16,
   "metadata": {},
   "outputs": [
    {
     "name": "stdout",
     "output_type": "stream",
     "text": [
      "True\n"
     ]
    }
   ],
   "source": [
    "\"\"\" \n",
    "4. Check if the key 'name' exists in {'name': 'Alice', 'age': 30}.\n",
    "\"\"\"\n",
    "# data = {'name': 'Alice', 'age': 30}\n",
    "# print(\"name\" in data)\n",
    "\n",
    "\"\"\" \n",
    "Check if the value 30 exists in {'name': 'Alice', 'age': 30}.\n",
    "\"\"\"\n",
    "data = {'name': 'Alice', 'age': 30}\n",
    "for key, val in data.items():\n",
    "    if val == 30:\n",
    "        print(True)\n",
    "        break\n",
    "else:\n",
    "\tprint(False)"
   ]
  },
  {
   "cell_type": "code",
   "execution_count": 25,
   "metadata": {},
   "outputs": [
    {
     "name": "stdout",
     "output_type": "stream",
     "text": [
      "Alice\n"
     ]
    }
   ],
   "source": [
    "\"\"\" \n",
    "5. Access the value associated with a specific key\n",
    "Example: Access the value of 'age' in {'name': 'Alice', 'age': 30}.\n",
    "\"\"\"\n",
    "data = {'name': 'Alice', 'age': 30}\n",
    "keyInput = input(\"Enter Key: \")\n",
    "\n",
    "if keyInput not in data:\n",
    "    print(f\"{keyInput} not in {data}\")\n",
    "else:\n",
    "    print(data[keyInput])"
   ]
  },
  {
   "cell_type": "code",
   "execution_count": null,
   "metadata": {},
   "outputs": [],
   "source": [
    "\"\"\" \n",
    "6. Update the value of an existing key\n",
    "\tUpdate the value of 'age' from 30 to 31 in {'name': 'Alice', 'age': 30}.\n",
    "\"\"\""
   ]
  },
  {
   "cell_type": "code",
   "execution_count": null,
   "metadata": {},
   "outputs": [],
   "source": [
    "\"\"\" \n",
    "7. Add a new key-value pair to the dictionary\n",
    "Add 'city': 'New York' to {'name': 'Alice', 'age': 31}.\n",
    "\"\"\""
   ]
  },
  {
   "cell_type": "code",
   "execution_count": null,
   "metadata": {},
   "outputs": [],
   "source": [
    "\"\"\" \n",
    "8. Remove a key-value pair\n",
    "Remove the key 'name' from {'name': 'Alice', 'age': 31, 'city': 'New York'}.\n",
    "\"\"\""
   ]
  },
  {
   "cell_type": "code",
   "execution_count": null,
   "metadata": {},
   "outputs": [],
   "source": [
    "\"\"\" \n",
    "9. Check if a dictionary is empty\n",
    "Check if the dictionary {'name': 'Alice'} is empty.\n",
    "\"\"\""
   ]
  },
  {
   "cell_type": "code",
   "execution_count": null,
   "metadata": {},
   "outputs": [],
   "source": [
    "\"\"\" \n",
    "10. get all the keys, values, items of dict\n",
    "{'name': 'Alice', 'age': 31, 'city': 'New York'}.\n",
    "\"\"\""
   ]
  },
  {
   "cell_type": "code",
   "execution_count": null,
   "metadata": {},
   "outputs": [],
   "source": [
    "\"\"\" \n",
    "11. create two keys i.e., vowels and consonants \n",
    "    append all the characters to vowel/consonant after checking from sentence.\n",
    "    \"codewala flask\"\n",
    "    {\n",
    "      \"vowels\": [\"o\", \"e\", \"a\", \"a\", \"a\"],\n",
    "\t  \"consonants\": [\"c\", \"d\", \"e\", \"w\", \"l\", \"f\", \"l\", \"s\", \"k\"]\n",
    "    }\n",
    "\"\"\""
   ]
  },
  {
   "cell_type": "code",
   "execution_count": null,
   "metadata": {},
   "outputs": [],
   "source": [
    "\"\"\" \n",
    "12. create dict with key as string type and value as dict type\n",
    "    create dict with key as int type and value as list\n",
    "\"\"\""
   ]
  },
  {
   "cell_type": "code",
   "execution_count": null,
   "metadata": {},
   "outputs": [],
   "source": [
    "\"\"\" \n",
    "13. create two keys i.e., evens and odds and values as empty list\n",
    "    append all even nums from 1-100(inclusive) in evens,\n",
    "    \t  and odd nums in odds\n",
    "\"\"\""
   ]
  },
  {
   "cell_type": "code",
   "execution_count": null,
   "metadata": {},
   "outputs": [],
   "source": [
    "\"\"\" \n",
    "14. count the frequency of each letter in a string\n",
    "\tex:- \n",
    "\t\t\"codewala\"\n",
    "\t\t{\"c\":1, \"o\":1, \"d\":1, \"e\":1, \"w\":1, \"a\":2, \"l\":1}\n",
    "\n",
    "        \"steeve\"\n",
    "        {\"s\":1, \"t\":1, \"e\":3, \"v\":1}\n",
    "    \n",
    "\"\"\""
   ]
  },
  {
   "cell_type": "code",
   "execution_count": null,
   "metadata": {},
   "outputs": [],
   "source": [
    "\"\"\" \n",
    "15. print only the letters in string that has repeated twice with help of dict\n",
    "\tex:- \"letter\"\n",
    "\t\t  \"e\",\"t\" repeated twice\n",
    "\"\"\""
   ]
  }
 ],
 "metadata": {
  "kernelspec": {
   "display_name": "Python 3",
   "language": "python",
   "name": "python3"
  },
  "language_info": {
   "codemirror_mode": {
    "name": "ipython",
    "version": 3
   },
   "file_extension": ".py",
   "mimetype": "text/x-python",
   "name": "python",
   "nbconvert_exporter": "python",
   "pygments_lexer": "ipython3",
   "version": "3.12.4"
  }
 },
 "nbformat": 4,
 "nbformat_minor": 2
}
