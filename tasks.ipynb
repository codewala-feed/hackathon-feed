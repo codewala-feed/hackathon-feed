{
 "cells": [
  {
   "cell_type": "code",
   "execution_count": 2,
   "metadata": {},
   "outputs": [
    {
     "name": "stdout",
     "output_type": "stream",
     "text": [
      "{'name': 'hari', 'age': 23} 2\n"
     ]
    }
   ],
   "source": [
    "\"\"\"\n",
    "1. create empty dict and add one item and find the length\n",
    "\"\"\"\n",
    "data = {}\n",
    "data[\"name\"] = \"hari\"\n",
    "data.update({\"age\":23})\n",
    "print(data, len(data))"
   ]
  },
  {
   "cell_type": "code",
   "execution_count": 7,
   "metadata": {},
   "outputs": [
    {
     "name": "stdout",
     "output_type": "stream",
     "text": [
      "{1: 1, 2: 4, 3: 9, 4: 16, 5: 25, 6: 36, 7: 49, 8: 64, 9: 81, 10: 100}\n"
     ]
    }
   ],
   "source": [
    "\"\"\" \n",
    "2. Create a empty dictionary with\n",
    "\t keys as numbers and values as their squares from 1 to n\n",
    "Example: {1: 1, 2: 4, 3: 9, 4: 16}\n",
    "\"\"\"\n",
    "nums = {}\n",
    "n = int(input(\"Enter Value: \"))\n",
    "for num in range(1, n+1):\n",
    "    # print(num, num*num)\n",
    "    nums[num] = num*num\n",
    "print(nums)\n"
   ]
  },
  {
   "cell_type": "code",
   "execution_count": 9,
   "metadata": {},
   "outputs": [
    {
     "name": "stdout",
     "output_type": "stream",
     "text": [
      "{'a': 1, 'b': 2, 'c': 3, 'd': 4}\n"
     ]
    }
   ],
   "source": [
    "\"\"\" \n",
    "3. Merge two dictionaries into one\n",
    "Example: Merge {'a': 1, 'b': 2} with {'c': 3, 'd': 4} \n",
    "\t\tto get {'a': 1, 'b': 2, 'c': 3, 'd': 4}.\n",
    "\"\"\"\n",
    "data1 = {'a': 1, 'b': 2}\n",
    "data2 = {'c': 3, 'd': 4} \n",
    "data1.update(data2)\n",
    "print(data1)"
   ]
  },
  {
   "cell_type": "code",
   "execution_count": 16,
   "metadata": {},
   "outputs": [
    {
     "name": "stdout",
     "output_type": "stream",
     "text": [
      "True\n"
     ]
    }
   ],
   "source": [
    "\"\"\" \n",
    "4. Check if the key 'name' exists in {'name': 'Alice', 'age': 30}.\n",
    "\"\"\"\n",
    "# data = {'name': 'Alice', 'age': 30}\n",
    "# print(\"name\" in data)\n",
    "\n",
    "\"\"\" \n",
    "Check if the value 30 exists in {'name': 'Alice', 'age': 30}.\n",
    "\"\"\"\n",
    "data = {'name': 'Alice', 'age': 30}\n",
    "for key, val in data.items():\n",
    "    if val == 30:\n",
    "        print(True)\n",
    "        break\n",
    "else:\n",
    "\tprint(False)"
   ]
  },
  {
   "cell_type": "code",
   "execution_count": 25,
   "metadata": {},
   "outputs": [
    {
     "name": "stdout",
     "output_type": "stream",
     "text": [
      "Alice\n"
     ]
    }
   ],
   "source": [
    "\"\"\" \n",
    "5. Access the value associated with a specific key\n",
    "Example: Access the value of 'age' in {'name': 'Alice', 'age': 30}.\n",
    "\"\"\"\n",
    "data = {'name': 'Alice', 'age': 30}\n",
    "keyInput = input(\"Enter Key: \")\n",
    "\n",
    "if keyInput not in data:\n",
    "    print(f\"{keyInput} not in {data}\")\n",
    "else:\n",
    "    print(data[keyInput])"
   ]
  },
  {
   "cell_type": "code",
   "execution_count": null,
   "metadata": {},
   "outputs": [],
   "source": [
    "\"\"\" \n",
    "6. Update the value of an existing key\n",
    "\tUpdate the value of 'age' from 30 to 31 in {'name': 'Alice', 'age': 30}.\n",
    "\"\"\""
   ]
  },
  {
   "cell_type": "code",
   "execution_count": null,
   "metadata": {},
   "outputs": [],
   "source": [
    "\"\"\" \n",
    "7. Add a new key-value pair to the dictionary\n",
    "Add 'city': 'New York' to {'name': 'Alice', 'age': 31}.\n",
    "\"\"\""
   ]
  },
  {
   "cell_type": "code",
   "execution_count": 27,
   "metadata": {},
   "outputs": [
    {
     "name": "stdout",
     "output_type": "stream",
     "text": [
      "{'age': 31, 'city': 'New York'}\n"
     ]
    }
   ],
   "source": [
    "\"\"\" \n",
    "8. Remove a key-value pair\n",
    "Remove the key 'name' from {'name': 'Alice', 'age': 31, 'city': 'New York'}.\n",
    "\"\"\"\n",
    "data = {'name': 'Alice', 'age': 31, 'city': 'New York'}\n",
    "data.pop(\"name\")\n",
    "print(data)"
   ]
  },
  {
   "cell_type": "code",
   "execution_count": null,
   "metadata": {},
   "outputs": [
    {
     "name": "stdout",
     "output_type": "stream",
     "text": [
      "Not Empty\n"
     ]
    }
   ],
   "source": [
    "\"\"\" \n",
    "9. Check if a dictionary is empty\n",
    "Check if the dictionary {'name': 'Alice'} is empty.\n",
    "\"\"\"\n",
    "data = {'name': 'Alice', 'age': 31, 'city': 'New York'}\n",
    "if len(data) == 0:\n",
    "    print(\"Empty\")\n",
    "else:\n",
    "    print(\"Not Empty\")"
   ]
  },
  {
   "cell_type": "code",
   "execution_count": 32,
   "metadata": {},
   "outputs": [
    {
     "name": "stdout",
     "output_type": "stream",
     "text": [
      "['name', 'age', 'city']\n",
      "['Alice', 31, 'New York']\n",
      "[('name', 'Alice'), ('age', 31), ('city', 'New York')]\n"
     ]
    }
   ],
   "source": [
    "\"\"\" \n",
    "10. get all the keys, values, items of dict\n",
    "{'name': 'Alice', 'age': 31, 'city': 'New York'}.\n",
    "\"\"\"\n",
    "data = {'name': 'Alice', 'age': 31, 'city': 'New York'}\n",
    "print(list(data.keys()))\n",
    "print(list(data.values()))\n",
    "print(list(data.items()))"
   ]
  },
  {
   "cell_type": "code",
   "execution_count": 40,
   "metadata": {},
   "outputs": [
    {
     "name": "stdout",
     "output_type": "stream",
     "text": [
      "vowels : ['o', 'e', 'a', 'a', 'a']\n",
      "consonants : ['c', 'd', 'w', 'l', 'f', 'l', 's', 'k']\n"
     ]
    }
   ],
   "source": [
    "\"\"\" \n",
    "11. create two keys i.e., vowels and consonants \n",
    "    append all the characters to vowel/consonant after checking from sentence.\n",
    "    \"codewala flask\"\n",
    "    {\n",
    "      \"vowels\": [\"o\", \"e\", \"a\", \"a\", \"a\"],\n",
    "\t  \"consonants\": [\"c\", \"d\", \"e\", \"w\", \"l\", \"f\", \"l\", \"s\", \"k\"]\n",
    "    }\n",
    "\"\"\"\n",
    "alphabets = {\"vowels\":[], \"consonants\":[]}\n",
    "sentence = \"codewala fla sk\"\n",
    "sentence = sentence.replace(\" \", \"\")\n",
    "for letter in range(len(sentence)):\n",
    "    if sentence[letter] in \"aeiou\":\n",
    "        alphabets[\"vowels\"].append(sentence[letter])\n",
    "    else:\n",
    "        alphabets[\"consonants\"].append(sentence[letter])\n",
    "\n",
    "for key, val in alphabets.items():\n",
    "    print(f\"{key} : {val}\")"
   ]
  },
  {
   "cell_type": "code",
   "execution_count": 42,
   "metadata": {},
   "outputs": [
    {
     "name": "stdout",
     "output_type": "stream",
     "text": [
      "{'steeve': {'name': 'steeve', 'age': 23, 'place': 'brooklyn'}}\n"
     ]
    }
   ],
   "source": [
    "\"\"\" \n",
    "12. create dict with key as string type and value as dict type\n",
    "    create dict with key as int type and value as list\n",
    "\"\"\"\n",
    "database = {}\n",
    "\n",
    "user = {\"name\":\"steeve\", \"age\":23, \"place\":\"brooklyn\"}\n",
    "name = user[\"name\"]\n",
    "database[name] = user\n",
    "print(database)"
   ]
  },
  {
   "cell_type": "code",
   "execution_count": 46,
   "metadata": {},
   "outputs": [
    {
     "name": "stdout",
     "output_type": "stream",
     "text": [
      "evens : [2, 4, 6, 8, 10, 12, 14, 16, 18, 20, 22, 24, 26, 28, 30, 32, 34, 36, 38, 40, 42, 44, 46, 48, 50, 52, 54, 56, 58, 60, 62, 64, 66, 68, 70, 72, 74, 76, 78, 80, 82, 84, 86, 88, 90, 92, 94, 96, 98, 100]\n",
      "odds : [1, 3, 5, 7, 9, 11, 13, 15, 17, 19, 21, 23, 25, 27, 29, 31, 33, 35, 37, 39, 41, 43, 45, 47, 49, 51, 53, 55, 57, 59, 61, 63, 65, 67, 69, 71, 73, 75, 77, 79, 81, 83, 85, 87, 89, 91, 93, 95, 97, 99]\n",
      "evens = 50, odds = 50\n"
     ]
    }
   ],
   "source": [
    "\"\"\" \n",
    "13. create two keys i.e., evens and odds and values as empty list\n",
    "    append all even nums from 1-100(inclusive) in evens,\n",
    "    \t  and odd nums in odds\n",
    "\"\"\"\n",
    "\n",
    "numbers = {\"evens\":[], \"odds\":[]}\n",
    "even_cnt = 0\n",
    "odd_cnt = 0\n",
    "for num in range(1, 101):\n",
    "    if num % 2 == 0:\n",
    "        numbers[\"evens\"].append(num)\n",
    "        even_cnt += 1\n",
    "    else:\n",
    "        numbers[\"odds\"].append(num)\n",
    "        odd_cnt += 1\n",
    "        \n",
    "for key, val in numbers.items():\n",
    "    print(f\"{key} : {val}\")\n",
    "    \n",
    "print(f\"evens = {even_cnt}, odds = {odd_cnt}\")"
   ]
  },
  {
   "cell_type": "code",
   "execution_count": null,
   "metadata": {},
   "outputs": [
    {
     "name": "stdout",
     "output_type": "stream",
     "text": [
      "{'s': 1, 't': 1, 'e': 3, 'v': 1}\n"
     ]
    }
   ],
   "source": [
    "\"\"\" \n",
    "14. count the frequency of each letter in a string\n",
    "\tex:- \n",
    "\t\t\"codewala\"\n",
    "\t\t{\"c\":1, \"o\":1, \"d\":1, \"e\":1, \"w\":1, \"a\":2, \"l\":1}\n",
    "\n",
    "        \"steeve\"\n",
    "        {\"s\":1, \"t\":1, \"e\":3, \"v\":1}\n",
    "    \n",
    "\"\"\"\n",
    "word = input()\n",
    "frequency = {}\n",
    "for letter in word:\n",
    "    if letter not in frequency:\n",
    "        frequency[letter] = 1\n",
    "    else:\n",
    "        frequency[letter] += 1\n",
    "print(frequency)\n"
   ]
  },
  {
   "cell_type": "code",
   "execution_count": 53,
   "metadata": {},
   "outputs": [
    {
     "name": "stdout",
     "output_type": "stream",
     "text": [
      "{'l': 1, 'e': 2, 't': 2, 'r': 1}\n",
      "e\n",
      "t\n"
     ]
    }
   ],
   "source": [
    "\"\"\" \n",
    "15. print only the letters in string that has repeated twice with help of dict\n",
    "\tex:- \"letter\"\n",
    "\t\t  \"e\",\"t\" repeated twice\n",
    "\"\"\"\n",
    "word = input()\n",
    "frequency = {}\n",
    "for letter in word:\n",
    "    if letter not in frequency:\n",
    "        frequency[letter] = 1\n",
    "    else:\n",
    "        frequency[letter] += 1\n",
    "print(frequency)\n",
    "\n",
    "for letter, letter_cnt in frequency.items():\n",
    "    if letter_cnt == 2:\n",
    "        print(letter)"
   ]
  }
 ],
 "metadata": {
  "kernelspec": {
   "display_name": "Python 3",
   "language": "python",
   "name": "python3"
  },
  "language_info": {
   "codemirror_mode": {
    "name": "ipython",
    "version": 3
   },
   "file_extension": ".py",
   "mimetype": "text/x-python",
   "name": "python",
   "nbconvert_exporter": "python",
   "pygments_lexer": "ipython3",
   "version": "3.12.4"
  }
 },
 "nbformat": 4,
 "nbformat_minor": 2
}
