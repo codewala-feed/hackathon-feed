{
 "cells": [
  {
   "cell_type": "code",
   "execution_count": null,
   "metadata": {},
   "outputs": [
    {
     "name": "stdout",
     "output_type": "stream",
     "text": [
      "steeve@gmail.com\n",
      "steeve#123\n",
      "tony@gmail.com\n",
      "tony#123\n"
     ]
    }
   ],
   "source": [
    "database = [\n",
    "    {\n",
    "        \"user_email\": \"steeve@gmail.com\",\n",
    "        \"user_name\": \"steeve\",\n",
    "        \"user_phone\": \"56789\",\n",
    "        \"user_pwd\": \"steeve#123\"\n",
    "    },\n",
    "    {\n",
    "        \"user_email\": \"tony@gmail.com\",\n",
    "        \"user_name\": \"tony\",\n",
    "        \"user_phone\": \"3456789\",\n",
    "        \"user_pwd\": \"tony#123\"\n",
    "    }\n",
    "]\n",
    "\n",
    "# print(database[0][\"user_email\"])\n",
    "# print(database[0][\"user_pwd\"])\n",
    "\n",
    "# print(database[1][\"user_email\"])\n",
    "# print(database[1][\"user_pwd\"])\n",
    "\n",
    "for user in range(len(database)):\n",
    "\temail = database[user][\"user_email\"]\n",
    "\tpwd = database[user][\"user_pwd\"]"
   ]
  }
 ],
 "metadata": {
  "kernelspec": {
   "display_name": "Python 3",
   "language": "python",
   "name": "python3"
  },
  "language_info": {
   "codemirror_mode": {
    "name": "ipython",
    "version": 3
   },
   "file_extension": ".py",
   "mimetype": "text/x-python",
   "name": "python",
   "nbconvert_exporter": "python",
   "pygments_lexer": "ipython3",
   "version": "3.12.4"
  }
 },
 "nbformat": 4,
 "nbformat_minor": 2
}
